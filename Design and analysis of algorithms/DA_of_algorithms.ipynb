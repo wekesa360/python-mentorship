{
 "cells": [
  {
   "cell_type": "markdown",
   "metadata": {},
   "source": [
    "### <u>Design and analysis of algorithms</u>\n",
    "\n",
    "\n"
   ]
  },
  {
   "cell_type": "markdown",
   "metadata": {},
   "source": [
    "A lecturer gave two tasks to his students to design an algorithm in python that calculates the factorial of a number entered by a user.\n"
   ]
  },
  {
   "cell_type": "markdown",
   "metadata": {},
   "source": [
    ">**Student 1**"
   ]
  },
  {
   "cell_type": "code",
   "execution_count": 1,
   "metadata": {},
   "outputs": [],
   "source": [
    "def fact(n): # student 1\n",
    "    product = 1\n",
    "    for i in range(n):\n",
    "        product = product * i + 1\n",
    "        return product"
   ]
  },
  {
   "cell_type": "markdown",
   "metadata": {},
   "source": [
    ">**Student 2**"
   ]
  },
  {
   "cell_type": "code",
   "execution_count": 2,
   "metadata": {},
   "outputs": [],
   "source": [
    "def fact(n): # student 2\n",
    "    if n == 0:\n",
    "        return 1\n",
    "    else:\n",
    "        return n * fact(n - 1)"
   ]
  },
  {
   "cell_type": "markdown",
   "metadata": {},
   "source": [
    "The lecturer had to determine which algorithm is better.\n",
    "1. Determine the techniques used:\n",
    "    \n",
    "    > Divide and conquer\n",
    "\n",
    "    \n",
    "    > Recursion\n",
    "2. Determine which algorithm is better using python"
   ]
  },
  {
   "cell_type": "code",
   "execution_count": 3,
   "metadata": {},
   "outputs": [],
   "source": [
    "import pandas\n",
    "import numpy as np\n",
    "import matplotlib.pyplot as plt\n",
    "from datetime import datetime\n"
   ]
  },
  {
   "cell_type": "code",
   "execution_count": 4,
   "metadata": {},
   "outputs": [
    {
     "name": "stdout",
     "output_type": "stream",
     "text": [
      "Duration of student 1:  0:00:00.000012 \n",
      "Duration of student 2:  0:00:00.000002\n",
      "\n",
      "Recursion algorithm is better (student 2)\n"
     ]
    }
   ],
   "source": [
    "def fact_1(n): # student 1\n",
    "    product = 1\n",
    "    for i in range(n):\n",
    "        product = product * i + 1\n",
    "        return product\n",
    "\n",
    "def fact_2(n): # student 2\n",
    "    if n == 0:\n",
    "        return 1\n",
    "    else:\n",
    "        return n * fact_2(n - 1)\n",
    "\n",
    "if __name__ == \"__main__\":\n",
    "    n = 10\n",
    "    init_time = datetime.now()\n",
    "    fact_1(n)\n",
    "    end_time = datetime.now()\n",
    "    duration_student_1 = (end_time - init_time)\n",
    "    \n",
    "    init_time = datetime.now()\n",
    "    fact_1(n)\n",
    "    end_time = datetime.now()\n",
    "    duration_student_2 = (end_time - init_time)\n",
    "\n",
    "    print(\"Duration of student 1: \", duration_student_1, \"\\nDuration of student 2: \", duration_student_2)\n",
    "    print(\"\\nRecursion algorithm is better (student 2)\")"
   ]
  },
  {
   "cell_type": "markdown",
   "metadata": {},
   "source": [
    "\n",
    "\n",
    "\n",
    "##### **Write a program to show the design analysis with big notation works and display them inform of a graph** "
   ]
  },
  {
   "cell_type": "code",
   "execution_count": 5,
   "metadata": {},
   "outputs": [],
   "source": [
    "def get_first(data): # constant time\n",
    "    return data[0]"
   ]
  },
  {
   "cell_type": "code",
   "execution_count": 6,
   "metadata": {},
   "outputs": [],
   "source": [
    "def binary_search(data, value): # logarithmic time\n",
    "    n = len(data)\n",
    "    left = 0\n",
    "    right = n - 1\n",
    "    while left <= right:\n",
    "        middle = (left + right) // 2\n",
    "        if value < data[middle]:\n",
    "            right = middle - 1\n",
    "        elif value > data[middle]:\n",
    "            left = middle + 1\n",
    "        else:\n",
    "            return middle\n",
    "    return 'Value is not in the list'"
   ]
  },
  {
   "cell_type": "code",
   "execution_count": 7,
   "metadata": {},
   "outputs": [],
   "source": [
    "def linear_search(data, value): # linear time\n",
    "    for index in range(len(data)):\n",
    "        if value == data[index]:\n",
    "            return index\n",
    "    return 'Value not found in the list'"
   ]
  },
  {
   "cell_type": "code",
   "execution_count": 8,
   "metadata": {},
   "outputs": [],
   "source": [
    "def merge_sort(data): # n log n time\n",
    "    if len(data) <= 1:\n",
    "        return\n",
    "    \n",
    "    mid = len(data) // 2\n",
    "    left_data = data[:mid]\n",
    "    right_data = data[mid:]\n",
    "    \n",
    "    merge_sort(left_data)\n",
    "    merge_sort(right_data)\n",
    "    \n",
    "    left_index = 0\n",
    "    right_index = 0\n",
    "    data_index = 0\n",
    "    \n",
    "    while left_index < len(left_data) and right_index < len(right_data):\n",
    "        if left_data[left_index] < right_data[right_index]:\n",
    "            data[data_index] = left_data[left_index]\n",
    "            left_index += 1\n",
    "        else:\n",
    "            data[data_index] = right_data[right_index]\n",
    "            right_index += 1\n",
    "        data_index += 1\n",
    "    \n",
    "    if left_index < len(left_data):\n",
    "        del data[data_index:]\n",
    "        data += left_data[left_index:]\n",
    "    elif right_index < len(right_data):\n",
    "        del data[data_index:]\n",
    "        data += right_data[right_index:]"
   ]
  },
  {
   "cell_type": "code",
   "execution_count": 9,
   "metadata": {},
   "outputs": [],
   "source": [
    "def bubble_sort(data): # n^2 (quadratic) time\n",
    "    swapped = True\n",
    "    while swapped:\n",
    "        swapped = False\n",
    "        for i in range(len(data)-1):\n",
    "            if data[i] > data[i+1]:\n",
    "                data[i], data[i+1] = data[i+1], data[i]\n",
    "                swapped = True"
   ]
  },
  {
   "cell_type": "code",
   "execution_count": 10,
   "metadata": {},
   "outputs": [],
   "source": [
    "def fib(n): # exponential time\n",
    "    if n <= 1:\n",
    "        return n\n",
    "    return fib(n-1) + fib(n-2)"
   ]
  },
  {
   "cell_type": "code",
   "execution_count": 11,
   "metadata": {},
   "outputs": [],
   "source": [
    "def heap_permutation(data, n): # factorial time\n",
    "    if n == 1:\n",
    "        print(data)\n",
    "        return\n",
    "    \n",
    "    for i in range(n):\n",
    "        heap_permutation(data, n - 1)\n",
    "        if n % 2 == 0:\n",
    "            data[i], data[n-1] = data[n-1], data[i]\n",
    "        else:\n",
    "            data[0], data[n-1] = data[n-1], data[0]"
   ]
  },
  {
   "cell_type": "code",
   "execution_count": null,
   "metadata": {},
   "outputs": [],
   "source": [
    "if __name__ == \"__main__\":\n",
    "    value = 6\n",
    "\n",
    "    n_1 = 2\n",
    "    n_2 = 7\n",
    "    n_3 = 9\n",
    "    n_4 = 12\n",
    "\n",
    "    list_1 = [1, 2]\n",
    "    list_2 = [1, 3, 4]\n",
    "    list_3 = [1, 2, 3, 4]\n",
    "    list_4 = [1, 5, 6, 8, 9]\n",
    "    data_1 = [5, 6, 7, 1, 8, 9, 2, 3, 4, 10]\n",
    "    data_2 = [5, 6, 7, 1, 8, 9, 2, 3, 4, 10, 11, 12, 13, 14, 15, 16, 17, 18, 19, 20]\n",
    "    data_3 = [5, 6, 7, 1, 8, 9, 2, 3, 4, 10, 11, 12, 13, 14, 15, 16, 17, 21, 22, 23, 24, 25, 26, 27, 18, 19, 20, 28, 29, 30]\n",
    "    data_4 = [5, 6, 7, 1, 8, 9, 2, 3, 4, 10, 11, 12, 13, 14, 15, 16, 17, 21, 22, 23, 24, 25, 26, 27, 18, 19, 20, 28, 29, 30, 31, 32, 33, 34, 35, 36, 37, 38, 39, 40, 41, 42, 43, 44, 45, 46, 47, 48, 49, 50]\n",
    "\n",
    "    init_time = int(datetime.now().strftime(\"%f\"))\n",
    "    get_first(data_1)\n",
    "    end_time = int(datetime.now().strftime(\"%f\"))\n",
    "    duration_constant_1 = (end_time - init_time)\n",
    "\n",
    "    init_time = int(datetime.now().strftime(\"%f\"))\n",
    "    get_first(data_2)\n",
    "    end_time = int(datetime.now().strftime(\"%f\"))\n",
    "    duration_constant_2 = (end_time - init_time)\n",
    "\n",
    "    init_time = int(datetime.now().strftime(\"%f\"))\n",
    "    get_first(data_3)\n",
    "    end_time = int(datetime.now().strftime(\"%f\"))\n",
    "    duration_constant_3 = (end_time - init_time)\n",
    "\n",
    "    init_time = int(datetime.now().strftime(\"%f\"))\n",
    "    get_first(data_4)\n",
    "    end_time = int(datetime.now().strftime(\"%f\"))\n",
    "    duration_constant_4 = (end_time - init_time)\n",
    "\n",
    "    # logarithmic time\n",
    "    init_time = int(datetime.now().strftime(\"%f\"))\n",
    "    binary_search(data_1, value)\n",
    "    end_time = int(datetime.now().strftime(\"%f\"))\n",
    "    duration_log_1 = (end_time - init_time)\n",
    "\n",
    "    init_time = int(datetime.now().strftime(\"%f\"))\n",
    "    binary_search(data_2, value)\n",
    "    end_time = int(datetime.now().strftime(\"%f\"))\n",
    "    duration_log_2 = (end_time - init_time)\n",
    "\n",
    "    init_time = int(datetime.now().strftime(\"%f\"))\n",
    "    binary_search(data_3, value)\n",
    "    end_time = int(datetime.now().strftime(\"%f\"))\n",
    "    duration_log_3 = (end_time - init_time)\n",
    "\n",
    "    init_time = int(datetime.now().strftime(\"%f\"))\n",
    "    binary_search(data_4, value)\n",
    "    end_time = int(datetime.now().strftime(\"%f\"))\n",
    "    duration_log_4 = (end_time - init_time)\n",
    "\n",
    "    # linear time\n",
    "    init_time = int(datetime.now().strftime(\"%f\"))\n",
    "    linear_search(data_1, value)\n",
    "    end_time = int(datetime.now().strftime(\"%f\"))\n",
    "    duration_linear_1 = (end_time - init_time)\n",
    "\n",
    "    init_time = int(datetime.now().strftime(\"%f\"))\n",
    "    linear_search(data_2, value)\n",
    "    end_time = int(datetime.now().strftime(\"%f\"))\n",
    "    duration_linear_2 = (end_time - init_time)\n",
    "\n",
    "    init_time = int(datetime.now().strftime(\"%f\"))\n",
    "    linear_search(data_3, value)\n",
    "    end_time = int(datetime.now().strftime(\"%f\"))\n",
    "    duration_linear_3 = (end_time - init_time)\n",
    "\n",
    "    init_time = int(datetime.now().strftime(\"%f\"))\n",
    "    linear_search(data_4, value)\n",
    "    end_time = int(datetime.now().strftime(\"%f\"))\n",
    "    duration_linear_4 = (end_time - init_time)\n",
    "\n",
    "    # n log n time\n",
    "    init_time = int(datetime.now().strftime(\"%f\"))\n",
    "    merge_sort(data_1)\n",
    "    end_time = int(datetime.now().strftime(\"%f\"))\n",
    "    duration_nlogn_1 = (end_time - init_time)\n",
    "\n",
    "    init_time = int(datetime.now().strftime(\"%f\"))\n",
    "    merge_sort(data_2)\n",
    "    end_time = int(datetime.now().strftime(\"%f\"))\n",
    "    duration_nlogn_2 = (end_time - init_time)\n",
    "\n",
    "    init_time = int(datetime.now().strftime(\"%f\"))\n",
    "    merge_sort(data_3)\n",
    "    end_time = int(datetime.now().strftime(\"%f\"))\n",
    "    duration_nlogn_3 = (end_time - init_time)\n",
    "\n",
    "    init_time = int(datetime.now().strftime(\"%f\"))\n",
    "    merge_sort(data_4)\n",
    "    end_time = int(datetime.now().strftime(\"%f\"))\n",
    "    duration_nlogn_4 = (end_time - init_time)\n",
    "\n",
    "    # n^2 (quadratic) time\n",
    "    init_time = int(datetime.now().strftime(\"%f\"))\n",
    "    bubble_sort(data_1)\n",
    "    end_time = int(datetime.now().strftime(\"%f\"))\n",
    "    duration_quad_1 = (end_time - init_time)\n",
    "\n",
    "    init_time = int(datetime.now().strftime(\"%f\"))\n",
    "    bubble_sort(data_2)\n",
    "    end_time = int(datetime.now().strftime(\"%f\"))\n",
    "    duration_quad_2 = (end_time - init_time)\n",
    "\n",
    "    init_time = int(datetime.now().strftime(\"%f\"))\n",
    "    bubble_sort(data_3)\n",
    "    end_time = int(datetime.now().strftime(\"%f\"))\n",
    "    duration_quad_3 = (end_time - init_time)\n",
    "\n",
    "    init_time = int(datetime.now().strftime(\"%f\"))\n",
    "    bubble_sort(data_4)\n",
    "    end_time = int(datetime.now().strftime(\"%f\"))\n",
    "    duration_quad_4 = (end_time - init_time)\n",
    "\n",
    "    # n^2 (quadratic) time\n",
    "    init_time = int(datetime.now().strftime(\"%f\"))\n",
    "    bubble_sort(data_1)\n",
    "    end_time = int(datetime.now().strftime(\"%f\"))\n",
    "    duration_quad_1 = (end_time - init_time)\n",
    "\n",
    "    init_time = int(datetime.now().strftime(\"%f\"))\n",
    "    bubble_sort(data_2)\n",
    "    end_time = int(datetime.now().strftime(\"%f\"))\n",
    "    duration_quad_2 = (end_time - init_time)\n",
    "\n",
    "    init_time = int(datetime.now().strftime(\"%f\"))\n",
    "    bubble_sort(data_3)\n",
    "    end_time = int(datetime.now().strftime(\"%f\"))\n",
    "    duration_quad_3 = (end_time - init_time)\n",
    "\n",
    "    init_time = int(datetime.now().strftime(\"%f\"))\n",
    "    bubble_sort(data_4)\n",
    "    end_time = int(datetime.now().strftime(\"%f\"))\n",
    "    duration_quad_4 = (end_time - init_time)\n",
    "\n",
    "    # exponential time\n",
    "    init_time = int(datetime.now().strftime(\"%f\"))\n",
    "    fib(n_1)\n",
    "    end_time = int(datetime.now().strftime(\"%f\"))\n",
    "    duration_exp_1 = (end_time - init_time)\n",
    "\n",
    "    init_time = int(datetime.now().strftime(\"%f\"))\n",
    "    fib(n_2)\n",
    "    end_time = int(datetime.now().strftime(\"%f\"))\n",
    "    duration_exp_2 = (end_time - init_time)\n",
    "\n",
    "    init_time = int(datetime.now().strftime(\"%f\"))\n",
    "    fib(n_3)\n",
    "    end_time = int(datetime.now().strftime(\"%f\"))\n",
    "    duration_exp_3 = (end_time - init_time)\n",
    "\n",
    "    init_time = int(datetime.now().strftime(\"%f\"))\n",
    "    fib(n_4)\n",
    "    end_time = int(datetime.now().strftime(\"%f\"))\n",
    "    duration_exp_4 = (end_time - init_time)\n",
    "\n",
    "\n",
    "    # factorial time\n",
    "    init_time = int(datetime.now().strftime(\"%f\"))\n",
    "    heap_permutation(list_1, len(list_1))\n",
    "    end_time = int(datetime.now().strftime(\"%f\"))\n",
    "    duration_fact_1 = (end_time - init_time)\n",
    "\n",
    "    init_time = int(datetime.now().strftime(\"%f\"))\n",
    "    heap_permutation(list_2, len(list_2))\n",
    "    end_time = int(datetime.now().strftime(\"%f\"))\n",
    "    duration_fact_2 = (end_time - init_time)\n",
    "\n",
    "    init_time = int(datetime.now().strftime(\"%f\"))\n",
    "    heap_permutation(list_3, len(list_3))\n",
    "    end_time = int(datetime.now().strftime(\"%f\"))\n",
    "    duration_fact_3 = (end_time - init_time)\n",
    "\n",
    "    init_time = int(datetime.now().strftime(\"%f\"))\n",
    "    heap_permutation(list_4, len(list_4))\n",
    "    end_time = int(datetime.now().strftime(\"%f\"))\n",
    "    duration_fact_4 = (end_time - init_time)\n",
    "\n",
    "    "
   ]
  },
  {
   "cell_type": "code",
   "execution_count": 27,
   "metadata": {},
   "outputs": [
    {
     "name": "stdout",
     "output_type": "stream",
     "text": [
      "Factorial time\n",
      "\n"
     ]
    },
    {
     "data": {
      "image/png": "[encoded data removed]",
      "text/plain": [
       "<Figure size 432x288 with 1 Axes>"
      ]
     },
     "metadata": {
      "needs_background": "light"
     },
     "output_type": "display_data"
    },
    {
     "name": "stdout",
     "output_type": "stream",
     "text": [
      "\n",
      "Constant time Complexity\n",
      "\n"
     ]
    },
    {
     "data": {
      "image/png": "[encoded data removed]",
      "text/plain": [
       "<Figure size 432x288 with 1 Axes>"
      ]
     },
     "metadata": {
      "needs_background": "light"
     },
     "output_type": "display_data"
    },
    {
     "name": "stdout",
     "output_type": "stream",
     "text": [
      "\n",
      "Exponential time Complexity\n",
      "\n"
     ]
    },
    {
     "data": {
      "image/png": "[encoded data removed]",
      "text/plain": [
       "<Figure size 432x288 with 1 Axes>"
      ]
     },
     "metadata": {
      "needs_background": "light"
     },
     "output_type": "display_data"
    },
    {
     "name": "stdout",
     "output_type": "stream",
     "text": [
      "\n",
      " n log n time Complexity\n",
      "\n"
     ]
    },
    {
     "data": {
      "image/png": "[encoded data removed]",
      "text/plain": [
       "<Figure size 432x288 with 1 Axes>"
      ]
     },
     "metadata": {
      "needs_background": "light"
     },
     "output_type": "display_data"
    },
    {
     "name": "stdout",
     "output_type": "stream",
     "text": [
      "\n",
      " linear time Complexity\n",
      "\n"
     ]
    },
    {
     "data": {
      "image/png": "[encoded data removed]",
      "text/plain": [
       "<Figure size 432x288 with 1 Axes>"
      ]
     },
     "metadata": {
      "needs_background": "light"
     },
     "output_type": "display_data"
    },
    {
     "name": "stdout",
     "output_type": "stream",
     "text": [
      "\n",
      " quadratic time Complexity\n",
      "\n"
     ]
    },
    {
     "data": {
      "image/png": "[encoded data removed]",
      "text/plain": [
       "<Figure size 432x288 with 1 Axes>"
      ]
     },
     "metadata": {
      "needs_background": "light"
     },
     "output_type": "display_data"
    },
    {
     "name": "stdout",
     "output_type": "stream",
     "text": [
      "\n",
      " logarithmic time Complexity\n",
      "\n"
     ]
    },
    {
     "data": {
      "image/png": "[encoded data removed]",
      "text/plain": [
       "<Figure size 432x288 with 1 Axes>"
      ]
     },
     "metadata": {
      "needs_background": "light"
     },
     "output_type": "display_data"
    }
   ],
   "source": [
    "\n",
    "print(\"Factorial time\\n\")\n",
    "\n",
    "x = [duration_fact_1, duration_fact_2, duration_fact_3, duration_fact_4]\n",
    "\n",
    "y = [len(list_1), len(list_2), len(list_3), len(list_4)]\n",
    "\n",
    "plt.plot(x, y, 'b')\n",
    "plt.xlabel('Inputs')\n",
    "plt.ylabel('Steps')\n",
    "plt.title('Constant Complexity')\n",
    "plt.show()\n",
    "\n",
    "print(\"\\nConstant time Complexity\\n\")\n",
    "\n",
    "x = [duration_constant_1, duration_constant_2, duration_constant_3, duration_constant_4]\n",
    "\n",
    "y = [len(data_1), len(data_2), len(data_3), len(data_4)]\n",
    "\n",
    "plt.plot(x, y, 'b')\n",
    "plt.xlabel('Inputs')\n",
    "plt.ylabel('Steps')\n",
    "plt.title('Constant Complexity')\n",
    "plt.show()\n",
    "\n",
    "print(\"\\nExponential time Complexity\\n\")\n",
    "\n",
    "x = [duration_exp_1, duration_exp_2, duration_exp_3, duration_exp_4]\n",
    "\n",
    "y = [n_1, n_2, n_3, n_4]\n",
    "\n",
    "plt.plot(x, y, 'b')\n",
    "plt.xlabel('Inputs')\n",
    "plt.ylabel('Steps')\n",
    "plt.title('Constant Complexity')\n",
    "plt.show()\n",
    "\n",
    "\n",
    "print(\"\\n n log n time Complexity\\n\")\n",
    "x = [duration_nlogn_1, duration_nlogn_2, duration_nlogn_3, duration_nlogn_4]\n",
    "\n",
    "y = [len(data_1), len(data_2), len(data_3), len(data_4)]\n",
    "\n",
    "plt.plot(x, y, 'b')\n",
    "plt.xlabel('Inputs')\n",
    "plt.ylabel('Steps')\n",
    "plt.title('Constant Complexity')\n",
    "plt.show()\n",
    "\n",
    "print(\"\\n linear time Complexity\\n\")\n",
    "\n",
    "x = [duration_linear_1, duration_linear_2, duration_linear_3, duration_linear_4]\n",
    "\n",
    "y = [len(data_1), len(data_2), len(data_3), len(data_4)]\n",
    "\n",
    "plt.plot(x, y, 'b')\n",
    "plt.xlabel('Inputs')\n",
    "plt.ylabel('Steps')\n",
    "plt.title('Constant Complexity')\n",
    "plt.show()\n",
    "\n",
    "\n",
    "print(\"\\n quadratic time Complexity\\n\")\n",
    "x = [duration_quad_1, duration_quad_2, duration_quad_3, duration_quad_4]\n",
    "\n",
    "y = [len(data_1), len(data_2), len(data_3), len(data_4)]\n",
    "\n",
    "plt.plot(x, y, 'b')\n",
    "plt.xlabel('Inputs')\n",
    "plt.ylabel('Steps')\n",
    "plt.title('Constant Complexity')\n",
    "plt.show()\n",
    "\n",
    "print(\"\\n logarithmic time Complexity\\n\")\n",
    "x = [duration_log_1, duration_log_2, duration_log_3, duration_log_4]\n",
    "\n",
    "y = [len(data_1), len(data_2), len(data_3), len(data_4)]\n",
    "\n",
    "plt.plot(x, y, 'b')\n",
    "plt.xlabel('Inputs')\n",
    "plt.ylabel('Steps')\n",
    "plt.title('Constant Complexity')\n",
    "plt.show()\n",
    "\n",
    "\n",
    "\n"
   ]
  }
 ],
 "metadata": {
  "kernelspec": {
   "display_name": "Python 3.10.4 ('python-mentorship')",
   "language": "python",
   "name": "python3"
  },
  "language_info": {
   "codemirror_mode": {
    "name": "ipython",
    "version": 3
   },
   "file_extension": ".py",
   "mimetype": "text/x-python",
   "name": "python",
   "nbconvert_exporter": "python",
   "pygments_lexer": "ipython3",
   "version": "3.10.4"
  },
  "orig_nbformat": 4,
  "vscode": {
   "interpreter": {
    "hash": "df25116f05a0c6511eb77ceff3ba992615a827a5a6fdb9e14eb69d963f82ab4c"
   }
  }
 },
 "nbformat": 4,
 "nbformat_minor": 2
}
