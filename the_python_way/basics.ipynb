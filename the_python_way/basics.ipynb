{
 "cells": [
  {
   "cell_type": "markdown",
   "metadata": {},
   "source": [
    "### The python way\n",
    "**Solutions**"
   ]
  },
  {
   "cell_type": "markdown",
   "metadata": {},
   "source": [
    "1. Write a function to sum all the numbers of a list. Returns the sum.\n",
    "    >Sample list: [8,2,3,0,7]\n",
    "\n",
    "    \n",
    "    >Expected Output: 20"
   ]
  },
  {
   "cell_type": "code",
   "execution_count": 8,
   "metadata": {
    "scrolled": true
   },
   "outputs": [],
   "source": [
    "def sum_list(t):\n",
    "    return sum(t)"
   ]
  },
  {
   "cell_type": "markdown",
   "metadata": {},
   "source": [
    "2. Given two integer numbers return their product only if the product is less than 1000, else return their sum.\n",
    "\n",
    "    >*Given*:\n",
    "    - number1 = 20\n",
    "    - number2 = 30\n",
    "\n",
    "    >**Expected Output**: \n",
    "    The result is 600\n",
    "\n",
    "\n",
    "    >*Given*: \n",
    "    - number1 = 40\n",
    "    - number2 = 30\n",
    "\n",
    "    >**Expected Output**: \n",
    "    The result is 70\n",
    "\n",
    "    <details>\n",
    "    <summary> Hint</summary>\n",
    "\n",
    "    - Create a function that will take two numbers as parameters\n",
    "    - Next, Inside a function, multiply two numbers and save their product in a product variable\n",
    "    - Next, use the if condition to check if the product >1000. If yes, return the product\n",
    "    - Otherwise, use the else block to calculate the sum of two numbers and return it.\n",
    "\n",
    "    </details>\n",
    "    \n"
   ]
  },
  {
   "cell_type": "code",
   "execution_count": 7,
   "metadata": {},
   "outputs": [],
   "source": [
    "def product_or_sum(a, b):\n",
    "    if a * b < 1000:\n",
    "        return a * b\n",
    "    else:\n",
    "        return a + b"
   ]
  },
  {
   "cell_type": "markdown",
   "metadata": {},
   "source": [
    "3. Write a program to check if the given number is a palindrome number. If it is palindrome return True else False.\n",
    "    <details>\n",
    "    <summary> Hint</summary>\n",
    "\n",
    "    A palindrome number is a number that is same after reverse. For example 545, is the palindrome numbers\n",
    "\n",
    "    </details>\n"
   ]
  },
  {
   "cell_type": "code",
   "execution_count": 2,
   "metadata": {},
   "outputs": [],
   "source": [
    "def check_palindrome(num):\n",
    "    str_num = str(num)\n",
    "    reversed_num = str_num[::-1]\n",
    "    if str_num == reversed_num:\n",
    "        return True\n",
    "    return False    \n",
    "    "
   ]
  },
  {
   "cell_type": "markdown",
   "metadata": {},
   "source": [
    "4. Return a string made of the first, middle and last character\n",
    "\n",
    "    >*Given*: \n",
    "    \"Peter\"\n",
    "\n",
    "    >**Expected Output:**\n",
    "    \"Ptr\"\n",
    "\n",
    "    <details>\n",
    "    <summary> Hint</summary>\n",
    "\n",
    "    - String index always starts with 0\n",
    "    - Use string indexing to get the character present at the given index\n",
    "    - Get the index of the middle character by dividing string length\n",
    "\n",
    "    </details>\n"
   ]
  },
  {
   "cell_type": "code",
   "execution_count": 3,
   "metadata": {},
   "outputs": [],
   "source": [
    "def first_mid_then_last(word):\n",
    "    mid_index = (len(word)-1) // 2\n",
    "    output = word[0] + word[mid_index] + word[-1]\n",
    "    return output"
   ]
  },
  {
   "cell_type": "markdown",
   "metadata": {},
   "source": [
    "5. Write a program to print multiplication table of a given number. Returns a list of all the multiples.\n",
    "\n",
    "    >*Given*\n",
    "    - n = 2\n",
    "\n",
    "    >**Expected Output**: [2,4,6,8,10,12,14,16,18,20]\n"
   ]
  },
  {
   "cell_type": "code",
   "execution_count": 6,
   "metadata": {},
   "outputs": [],
   "source": [
    "def mult_table(n):\n",
    "    mult_val = []\n",
    "    for i in range(1,11):\n",
    "        mult_val.append(n*i)\n",
    "    return mult_val\n",
    "        "
   ]
  },
  {
   "cell_type": "markdown",
   "metadata": {},
   "source": [
    "**Extra**\n",
    "\n",
    "Return the largest item from a given list\n",
    "\n",
    "\n",
    ">Given: \n",
    "x = [90,2,5,8,67]\n",
    "\n",
    ">Expected Output: \n",
    "90\n"
   ]
  },
  {
   "cell_type": "code",
   "execution_count": 5,
   "metadata": {},
   "outputs": [],
   "source": [
    "def largest(list):\n",
    "    return max(list)"
   ]
  }
 ],
 "metadata": {
  "interpreter": {
   "hash": "df25116f05a0c6511eb77ceff3ba992615a827a5a6fdb9e14eb69d963f82ab4c"
  },
  "kernelspec": {
   "display_name": "Python 3 (ipykernel)",
   "language": "python",
   "name": "python3"
  },
  "language_info": {
   "codemirror_mode": {
    "name": "ipython",
    "version": 3
   },
   "file_extension": ".py",
   "mimetype": "text/x-python",
   "name": "python",
   "nbconvert_exporter": "python",
   "pygments_lexer": "ipython3",
   "version": "3.10.4"
  }
 },
 "nbformat": 4,
 "nbformat_minor": 2
}
